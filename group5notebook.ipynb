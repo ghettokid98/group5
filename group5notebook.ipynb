{
  "nbformat": 4,
  "nbformat_minor": 0,
  "metadata": {
    "colab": {
      "provenance": [],
      "authorship_tag": "ABX9TyNT61yRm3Yt0WGs32YuqkR5",
      "include_colab_link": true
    },
    "kernelspec": {
      "name": "python3",
      "display_name": "Python 3"
    },
    "language_info": {
      "name": "python"
    }
  },
  "cells": [
    {
      "cell_type": "markdown",
      "metadata": {
        "id": "view-in-github",
        "colab_type": "text"
      },
      "source": [
        "<a href=\"https://colab.research.google.com/github/ghettokid98/group5/blob/main/group5notebook.ipynb\" target=\"_parent\"><img src=\"https://colab.research.google.com/assets/colab-badge.svg\" alt=\"Open In Colab\"/></a>"
      ]
    },
    {
      "cell_type": "markdown",
      "source": [
        "**BUSINESS UNDERSTANDING**\n",
        "\n",
        "---\n",
        "1.1 problem statement:\n",
        "\n",
        "  Government gazettes contain a large volume of official documents such as court judgments, public notices, tenders, and appointments. These entries are published in unstructured or semi-structured formats, making it difficult for users—such as government officials, researchers, lawyers, and the public—to quickly find and understand relevant information.\n",
        "\n",
        "1.2 **Business Objective:**\n",
        "\n",
        "  .Develop an automated system that classifies gazette entries into predefined categories (e.g., Judgments, Tenders, Appointments, Public Notices).\n",
        "\n",
        "  .Reduce the time and effort needed to manually sort and search gazette entries.\n",
        "\n",
        "  .Provide reliable, easy access to categorized information for stakeholders such as legal professionals, government employees, and citizens.\n",
        "\n",
        "  .Enable trend analysis and reporting on different types of government publications over time.\n",
        "\n",
        "  **Success looks like:**\n",
        "\n",
        "---\n",
        "\n",
        "  .An operational classification model integrated into a document management system.\n",
        "\n",
        "  Increased efficiency in retrieving relevant gazette entries.\n",
        "\n",
        "  Positive feedback from end-users on improved accessibility.\n",
        "\n",
        "1.3 **Data mining goals**:\n",
        "\n",
        "  Build a classification model that categorizes gazette entries by type based on textual content and metadata.\n",
        "\n",
        "  Achieve high predictive performance (accuracy, precision, recall) to ensure trustworthiness of classification.\n",
        "\n",
        "  Explore text processing and feature engineering methods to improve model performance.\n",
        "\n",
        "  Optionally, implement Named Entity Recognition (NER) to extract key details from entries (e.g., case numbers, dates).\n",
        "\n",
        "**1.4 Initial Success Criteria:**\n",
        "\n",
        "  The classification model should achieve at least 80% accuracy on a held-out test set.\n",
        "\n",
        "  Classified categories should be clearly distinguishable and practically useful.\n",
        "\n",
        "  The model should handle real-world noisy data and generalize well.\n",
        "\n",
        "  At least 70% precision and recall for each category to ensure balanced performance.\n",
        "\n",
        "  The system should demonstrate improvement in document retrieval speed during user testing.\n",
        "\n",
        "  "
      ],
      "metadata": {
        "id": "DETHmP3MPSkZ"
      }
    },
    {
      "cell_type": "markdown",
      "source": [],
      "metadata": {
        "id": "AO7UOOQHPrxs"
      }
    }
  ]
}